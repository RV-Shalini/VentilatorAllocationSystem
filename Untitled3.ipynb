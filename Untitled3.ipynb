{
 "cells": [
  {
   "cell_type": "code",
   "execution_count": 1,
   "id": "e4ce24a7-7999-4bf8-b6a0-df4e067b9c6c",
   "metadata": {},
   "outputs": [],
   "source": [
    "import pandas as pd\n",
    "from datetime import datetime, timedelta"
   ]
  },
  {
   "cell_type": "code",
   "execution_count": 2,
   "id": "a1d9b3d1-1e93-410a-8ad5-af98852adf68",
   "metadata": {},
   "outputs": [
    {
     "data": {
      "text/html": [
       "<div>\n",
       "<style scoped>\n",
       "    .dataframe tbody tr th:only-of-type {\n",
       "        vertical-align: middle;\n",
       "    }\n",
       "\n",
       "    .dataframe tbody tr th {\n",
       "        vertical-align: top;\n",
       "    }\n",
       "\n",
       "    .dataframe thead th {\n",
       "        text-align: right;\n",
       "    }\n",
       "</style>\n",
       "<table border=\"1\" class=\"dataframe\">\n",
       "  <thead>\n",
       "    <tr style=\"text-align: right;\">\n",
       "      <th></th>\n",
       "      <th>patient_id</th>\n",
       "      <th>patient_name</th>\n",
       "      <th>arrival_date</th>\n",
       "      <th>arrival_time</th>\n",
       "      <th>ventilator_usage_days</th>\n",
       "      <th>additional_equipment</th>\n",
       "      <th>arrival_datetime</th>\n",
       "    </tr>\n",
       "  </thead>\n",
       "  <tbody>\n",
       "    <tr>\n",
       "      <th>0</th>\n",
       "      <td>P1</td>\n",
       "      <td>Aiden Ross</td>\n",
       "      <td>6/14/2025</td>\n",
       "      <td>8:30:00</td>\n",
       "      <td>2</td>\n",
       "      <td>Oxygen Cylinder</td>\n",
       "      <td>2025-06-14 08:30:00</td>\n",
       "    </tr>\n",
       "    <tr>\n",
       "      <th>1</th>\n",
       "      <td>P48</td>\n",
       "      <td>Wendy Zhang</td>\n",
       "      <td>6/14/2025</td>\n",
       "      <td>11:15:00</td>\n",
       "      <td>1</td>\n",
       "      <td>NaN</td>\n",
       "      <td>2025-06-14 11:15:00</td>\n",
       "    </tr>\n",
       "    <tr>\n",
       "      <th>2</th>\n",
       "      <td>P2</td>\n",
       "      <td>Bella Carter</td>\n",
       "      <td>6/14/2025</td>\n",
       "      <td>13:50:00</td>\n",
       "      <td>3</td>\n",
       "      <td>ECG Monitor</td>\n",
       "      <td>2025-06-14 13:50:00</td>\n",
       "    </tr>\n",
       "    <tr>\n",
       "      <th>3</th>\n",
       "      <td>P3</td>\n",
       "      <td>Caleb Moore</td>\n",
       "      <td>6/14/2025</td>\n",
       "      <td>16:20:00</td>\n",
       "      <td>4</td>\n",
       "      <td>NaN</td>\n",
       "      <td>2025-06-14 16:20:00</td>\n",
       "    </tr>\n",
       "    <tr>\n",
       "      <th>4</th>\n",
       "      <td>P4</td>\n",
       "      <td>Daisy Patel</td>\n",
       "      <td>6/14/2025</td>\n",
       "      <td>20:45:00</td>\n",
       "      <td>5</td>\n",
       "      <td>Infusion Pump</td>\n",
       "      <td>2025-06-14 20:45:00</td>\n",
       "    </tr>\n",
       "  </tbody>\n",
       "</table>\n",
       "</div>"
      ],
      "text/plain": [
       "  patient_id  patient_name arrival_date arrival_time  ventilator_usage_days  \\\n",
       "0         P1    Aiden Ross    6/14/2025      8:30:00                      2   \n",
       "1        P48   Wendy Zhang    6/14/2025     11:15:00                      1   \n",
       "2         P2  Bella Carter    6/14/2025     13:50:00                      3   \n",
       "3         P3   Caleb Moore    6/14/2025     16:20:00                      4   \n",
       "4         P4   Daisy Patel    6/14/2025     20:45:00                      5   \n",
       "\n",
       "  additional_equipment    arrival_datetime  \n",
       "0      Oxygen Cylinder 2025-06-14 08:30:00  \n",
       "1                  NaN 2025-06-14 11:15:00  \n",
       "2          ECG Monitor 2025-06-14 13:50:00  \n",
       "3                  NaN 2025-06-14 16:20:00  \n",
       "4        Infusion Pump 2025-06-14 20:45:00  "
      ]
     },
     "execution_count": 2,
     "metadata": {},
     "output_type": "execute_result"
    }
   ],
   "source": [
    "# Load your CSV file\n",
    "csv_file = '/Users/shalini/Downloads/Book 18(Sheet1).csv'  # Make sure your CSV is in the same folder\n",
    "df = pd.read_csv(csv_file)\n",
    "\n",
    "# Clean the column names\n",
    "df.columns = df.columns.str.strip().str.lower().str.replace(' ', '_')\n",
    "\n",
    "# Merge arrival date and time into one datetime column\n",
    "df['arrival_datetime'] = pd.to_datetime(df['arrival_date'] + ' ' + df['arrival_time'])\n",
    "\n",
    "# Preview the data (optional)\n",
    "df.head()\n"
   ]
  },
  {
   "cell_type": "code",
   "execution_count": 3,
   "id": "10b02fe3-9e8f-44a8-8776-054a4d2fbf79",
   "metadata": {},
   "outputs": [],
   "source": [
    "# Convert dataframe to list of dictionaries\n",
    "patients = df[['patient_id', 'patient_name', 'arrival_datetime', 'ventilator_usage_days']].to_dict('records')\n",
    "\n",
    "# Set total ventilators in the hospital\n",
    "total_ventilators = 5"
   ]
  },
  {
   "cell_type": "code",
   "execution_count": 4,
   "id": "998b6bbf-395f-4785-8065-b6516a82acf4",
   "metadata": {},
   "outputs": [],
   "source": [
    "# Function to check current ventilator occupancy\n",
    "def get_occupied_ventilators(patients, check_time):\n",
    "    occupied = 0\n",
    "    for patient in patients:\n",
    "        start = patient['arrival_datetime']\n",
    "        end = start + timedelta(days=patient['ventilator_usage_days'])\n",
    "        if start <= check_time < end:\n",
    "            occupied += 1\n",
    "    return occupied\n",
    "\n",
    "# Function to check ventilator availability\n",
    "def is_ventilator_available(patients, check_time):\n",
    "    occupied = get_occupied_ventilators(patients, check_time)\n",
    "    return occupied < total_ventilators\n",
    "\n",
    "# Function to find next available ventilator time\n",
    "def next_available_time(patients, check_time):\n",
    "    future_end_times = []\n",
    "    for patient in patients:\n",
    "        start = patient['arrival_datetime']\n",
    "        end = start + timedelta(days=patient['ventilator_usage_days'])\n",
    "        if start <= check_time < end:\n",
    "            future_end_times.append(end)\n",
    "    if not future_end_times:\n",
    "        return check_time\n",
    "    return min(future_end_times)\n",
    "\n",
    "# Function to admit a new patient\n",
    "def admit_patient(patients, patient_id, name, arrival_datetime, ventilator_days):\n",
    "    if is_ventilator_available(patients, arrival_datetime):\n",
    "        patients.append({'patient_id': patient_id, 'patient_name': name, 'arrival_datetime': arrival_datetime, 'ventilator_usage_days': ventilator_days})\n",
    "        print(f\"✅ {name} admitted successfully!\")\n",
    "    else:\n",
    "        available_time = next_available_time(patients, arrival_datetime)\n",
    "        print(f\"❌ No ventilator available at {arrival_datetime}.\")\n",
    "        print(f\"👉 Next ventilator will be available on {available_time}.\")"
   ]
  },
  {
   "cell_type": "code",
   "execution_count": 9,
   "id": "ac1d345e-e2c1-4f8f-ad8c-05c71a1eddfe",
   "metadata": {},
   "outputs": [
    {
     "name": "stdin",
     "output_type": "stream",
     "text": [
      "Enter new patient ID:  49\n",
      "Enter new patient name:  swetha\n",
      "Enter arrival date and time (YYYY-MM-DD HH:MM):  2025-06-14 07:30\n",
      "Enter number of days ventilator needed:  4\n"
     ]
    },
    {
     "name": "stdout",
     "output_type": "stream",
     "text": [
      "✅ swetha admitted successfully!\n"
     ]
    }
   ],
   "source": [
    "# Example user input to admit new patient\n",
    "new_patient_id = int(input(\"Enter new patient ID: \"))\n",
    "new_patient_name = input(\"Enter new patient name: \")\n",
    "arrival_input = input(\"Enter arrival date and time (YYYY-MM-DD HH:MM): \")\n",
    "ventilator_days = int(input(\"Enter number of days ventilator needed: \"))\n",
    "\n",
    "arrival_datetime = datetime.strptime(arrival_input, \"%Y-%m-%d %H:%M\")\n",
    "\n",
    "# Admit the new patient\n",
    "admit_patient(patients, new_patient_id, new_patient_name, arrival_datetime, ventilator_days)\n"
   ]
  },
  {
   "cell_type": "code",
   "execution_count": null,
   "id": "f83b84f3-a5ec-4aa4-96de-dff1f2210638",
   "metadata": {},
   "outputs": [],
   "source": [
    "\n"
   ]
  },
  {
   "cell_type": "code",
   "execution_count": null,
   "id": "272cd16c-d929-42bb-90d5-3a78dd56991b",
   "metadata": {},
   "outputs": [],
   "source": []
  },
  {
   "cell_type": "code",
   "execution_count": null,
   "id": "9e7830a5-c7d5-48d1-a4d0-86c8625784c6",
   "metadata": {},
   "outputs": [],
   "source": []
  },
  {
   "cell_type": "code",
   "execution_count": null,
   "id": "37fd5e5e-935d-4c54-ab17-1a289c2c7735",
   "metadata": {},
   "outputs": [],
   "source": []
  },
  {
   "cell_type": "code",
   "execution_count": null,
   "id": "c45f3add-1a82-45d9-91b9-23d094cf674f",
   "metadata": {},
   "outputs": [],
   "source": []
  }
 ],
 "metadata": {
  "kernelspec": {
   "display_name": "Python 3 (ipykernel)",
   "language": "python",
   "name": "python3"
  },
  "language_info": {
   "codemirror_mode": {
    "name": "ipython",
    "version": 3
   },
   "file_extension": ".py",
   "mimetype": "text/x-python",
   "name": "python",
   "nbconvert_exporter": "python",
   "pygments_lexer": "ipython3",
   "version": "3.12.4"
  }
 },
 "nbformat": 4,
 "nbformat_minor": 5
}
